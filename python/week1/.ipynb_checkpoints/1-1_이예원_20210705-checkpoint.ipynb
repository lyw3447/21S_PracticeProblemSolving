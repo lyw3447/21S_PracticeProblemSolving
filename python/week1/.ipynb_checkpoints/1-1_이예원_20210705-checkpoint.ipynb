{
 "cells": [
  {
   "cell_type": "code",
   "execution_count": 2,
   "id": "995022e4",
   "metadata": {},
   "outputs": [
    {
     "name": "stdout",
     "output_type": "stream",
     "text": [
      "8 7 6 5 4 3 2\n",
      "descending\n"
     ]
    }
   ],
   "source": [
    "a = list(map(int, input().split()))\n",
    "\n",
    "if a == sorted(a):\n",
    "    print('ascending')\n",
    "elif a == sorted(a, reverse = True):\n",
    "    print('descending')\n",
    "else:\n",
    "    print('mixed')"
   ]
  }
 ],
 "metadata": {
  "kernelspec": {
   "display_name": "Python 3",
   "language": "python",
   "name": "python3"
  },
  "language_info": {
   "codemirror_mode": {
    "name": "ipython",
    "version": 3
   },
   "file_extension": ".py",
   "mimetype": "text/x-python",
   "name": "python",
   "nbconvert_exporter": "python",
   "pygments_lexer": "ipython3",
   "version": "3.9.0"
  }
 },
 "nbformat": 4,
 "nbformat_minor": 5
}
